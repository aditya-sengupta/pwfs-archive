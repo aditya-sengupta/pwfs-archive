{
 "cells": [
  {
   "cell_type": "code",
   "execution_count": 1,
   "metadata": {},
   "outputs": [
    {
     "name": "stdout",
     "output_type": "stream",
     "text": [
      "4096\n"
     ]
    }
   ],
   "source": [
    "from hcipy import *\n",
    "import numpy as np\n",
    "from matplotlib import pyplot as plt\n",
    "\n",
    "N = 64\n",
    "D = 9.96\n",
    "aperture = circular_aperture(D)\n",
    "pupil_grid = make_pupil_grid(N, D)\n",
    "sps = 40 * N // 128\n",
    "pupsep = 1\n",
    "outgrid_size = int(np.ceil(sps * (pupsep + 1)))\n",
    "D_grid = 3.6e-3\n",
    "pyramid_grid = make_pupil_grid(N, D_grid)\n",
    "outgrid = np.zeros((N, N)).tolist()\n",
    "buffer = (N - 2 * outgrid_size)//2\n",
    "\n",
    "def aberration_basis(N):\n",
    "    wfref = Wavefront(aperture(pupil_grid))\n",
    "    wfref.electric_field.shape = (N, N)\n",
    "    aberration_mode_basis = []\n",
    "    for i in range(N):\n",
    "        for j in range(N):\n",
    "            l = np.zeros((N, N), dtype=complex)\n",
    "            l[i][j] = 1j\n",
    "            aberration_mode_basis.append(Wavefront(Field(np.round(np.asarray(l).ravel(), 3) * aperture(pupil_grid), wfref.grid)))\n",
    "    return aberration_mode_basis\n",
    "\n",
    "basis = aberration_basis(N)\n",
    "print(len(basis))"
   ]
  },
  {
   "cell_type": "code",
   "execution_count": 6,
   "metadata": {
    "collapsed": true
   },
   "outputs": [],
   "source": [
    "def get_sub_images(electric_field):\n",
    "    pyramid_grid = make_pupil_grid(N, D_grid)\n",
    "    images = Field(np.asarray(electric_field).ravel(), pyramid_grid)\n",
    "    pysize = int(np.sqrt(images.size))\n",
    "    images.shape = (pysize, pysize)\n",
    "    sub_images = [images[pysize-sps-1:pysize-1, 0:sps], images[pysize-sps-1:pysize-1, pysize-sps-1:pysize-1],\n",
    "                  images[0:sps, 0:sps], images[0:sps, pysize-sps-1:pysize-1]]\n",
    "    subimage_grid = make_pupil_grid(sps, D_grid * sps / N)\n",
    "    for count, img in enumerate(sub_images):\n",
    "        img = img.ravel()\n",
    "        img.grid = subimage_grid\n",
    "        sub_images[count] = img\n",
    "    return sub_images\n",
    "\n",
    "def pyramid_prop(wf):\n",
    "    # Given a wavefront, returns the result of a pyramid propagation and splitting into sub-images, \n",
    "    # as a list of hcipy Field objects.\n",
    "    keck_pyramid = PyramidWavefrontSensorOptics(pupil_grid, pupil_separation=pupsep, num_pupil_pixels=sps)\n",
    "    return get_sub_images(keck_pyramid.forward(wf).electric_field)\n",
    "\n",
    "def estimate(images_list):\n",
    "    EstimatorObject = PyramidWavefrontSensorEstimator(aperture, make_pupil_grid(sps*2, D_grid*sps*2/N))\n",
    "    I_b = images_list[0]\n",
    "    I_a = images_list[1]\n",
    "    I_c = images_list[2]\n",
    "    I_d = images_list[3]\n",
    "    norm = I_a + I_b + I_c + I_d\n",
    "    if all([el == 0 for el in norm.tolist()]):\n",
    "        return\n",
    "    I_x = (I_a + I_b - I_c - I_d) / norm\n",
    "    I_y = (I_a - I_b - I_c + I_d) / norm\n",
    "    pygrid = make_pupil_grid(sps)\n",
    "    return Field(I_x.ravel(), pygrid), Field(I_y.ravel(), pygrid)\n",
    "\n",
    "def make_slopes(wf):\n",
    "    try:\n",
    "        x, y = estimate(pyramid_prop(wf))\n",
    "    except TypeError:\n",
    "        return\n",
    "    return np.concatenate((x, y))"
   ]
  },
  {
   "cell_type": "code",
   "execution_count": 7,
   "metadata": {},
   "outputs": [],
   "source": [
    "slopes_basis = [make_slopes(basis_element) for basis_element in basis]"
   ]
  },
  {
   "cell_type": "code",
   "execution_count": 8,
   "metadata": {},
   "outputs": [
    {
     "data": {
      "text/plain": [
       "(4096,)"
      ]
     },
     "execution_count": 8,
     "metadata": {},
     "output_type": "execute_result"
    }
   ],
   "source": [
    "np.asarray(slopes_basis).shape"
   ]
  },
  {
   "cell_type": "code",
   "execution_count": 10,
   "metadata": {},
   "outputs": [
    {
     "data": {
      "text/plain": [
       "1000"
      ]
     },
     "execution_count": 10,
     "metadata": {},
     "output_type": "execute_result"
    }
   ],
   "source": [
    "sum([(1 if el is None else 0) for el in slopes_basis])"
   ]
  },
  {
   "cell_type": "code",
   "execution_count": 15,
   "metadata": {},
   "outputs": [
    {
     "data": {
      "text/plain": [
       "(800,)"
      ]
     },
     "execution_count": 15,
     "metadata": {},
     "output_type": "execute_result"
    }
   ],
   "source": [
    "slopes_basis[sps//2 + 1000].shape"
   ]
  },
  {
   "cell_type": "code",
   "execution_count": 18,
   "metadata": {},
   "outputs": [],
   "source": [
    "for index, el in enumerate(slopes_basis):\n",
    "    if el is None:\n",
    "        slopes_basis[index] = np.zeros((2*sps*sps,))"
   ]
  },
  {
   "cell_type": "code",
   "execution_count": null,
   "metadata": {
    "collapsed": true
   },
   "outputs": [],
   "source": [
    "#This is just messy. I've just added 800k zeros to this and I don't think it's done a thing that'll help me.\n",
    "reconstructor = lambda wf: "
   ]
  }
 ],
 "metadata": {
  "kernelspec": {
   "display_name": "Python 3",
   "language": "python",
   "name": "python3"
  },
  "language_info": {
   "codemirror_mode": {
    "name": "ipython",
    "version": 3
   },
   "file_extension": ".py",
   "mimetype": "text/x-python",
   "name": "python",
   "nbconvert_exporter": "python",
   "pygments_lexer": "ipython3",
   "version": "3.6.3"
  }
 },
 "nbformat": 4,
 "nbformat_minor": 2
}
