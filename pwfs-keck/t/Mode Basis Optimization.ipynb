{
 "cells": [
  {
   "cell_type": "code",
   "execution_count": 7,
   "metadata": {
    "collapsed": true
   },
   "outputs": [],
   "source": [
    "# Idea: we don't need to do the full propagation for every mode given that most of it is going to be blank.\n",
    "# Some form of run-length encoding or maybe a partial-rank SVD would be useful.\n",
    "\n",
    "from hcipy import *\n",
    "import numpy as np\n",
    "from matplotlib import pyplot as plt\n",
    "\n",
    "N = 8\n",
    "D = 9.96\n",
    "pupil_grid = make_pupil_grid(N, D)\n",
    "sps = int(N * 40/128)\n",
    "aperture = circular_aperture(D)"
   ]
  },
  {
   "cell_type": "code",
   "execution_count": 8,
   "metadata": {
    "collapsed": true
   },
   "outputs": [],
   "source": [
    "# find the first spot for which aperture != 0\n",
    "\n",
    "def make():\n",
    "    for i in range(N):\n",
    "        for j in range(N):\n",
    "            wf = Wavefront(aperture(pupil_grid))\n",
    "            wf.electric_field.shape = (N, N)\n",
    "            l = wf.electric_field.tolist()\n",
    "            if np.real(l[i][j]) > 0:\n",
    "                l[i][j] = 0\n",
    "                wf.electric_field = Field(np.asarray(l).ravel(), wf.grid)\n",
    "                return wf\n",
    "\n",
    "one_pixel_off = make()"
   ]
  },
  {
   "cell_type": "code",
   "execution_count": 9,
   "metadata": {},
   "outputs": [
    {
     "data": {
      "text/plain": [
       "<matplotlib.image.NonUniformImage at 0x10f1dae10>"
      ]
     },
     "execution_count": 9,
     "metadata": {},
     "output_type": "execute_result"
    }
   ],
   "source": [
    "imshow_field(one_pixel_off.intensity)"
   ]
  },
  {
   "cell_type": "code",
   "execution_count": 10,
   "metadata": {},
   "outputs": [
    {
     "data": {
      "image/png": "[encoded data removed]",
      "text/plain": [
       "<matplotlib.figure.Figure at 0x10eedb748>"
      ]
     },
     "metadata": {},
     "output_type": "display_data"
    }
   ],
   "source": [
    "plt.show()"
   ]
  },
  {
   "cell_type": "code",
   "execution_count": 16,
   "metadata": {},
   "outputs": [],
   "source": [
    "keck_pyramid = PyramidWavefrontSensorOptics(pupil_grid, pupil_separation=1, num_pupil_pixels=2)\n",
    "py_output = keck_pyramid.forward(make())"
   ]
  },
  {
   "cell_type": "code",
   "execution_count": 17,
   "metadata": {},
   "outputs": [
    {
     "data": {
      "text/plain": [
       "<matplotlib.image.NonUniformImage at 0x10ed96588>"
      ]
     },
     "execution_count": 17,
     "metadata": {},
     "output_type": "execute_result"
    }
   ],
   "source": [
    "imshow_field(py_output.intensity)"
   ]
  },
  {
   "cell_type": "code",
   "execution_count": 18,
   "metadata": {},
   "outputs": [
    {
     "data": {
      "image/png": "[encoded data removed]",
      "text/plain": [
       "<matplotlib.figure.Figure at 0x10ede20f0>"
      ]
     },
     "metadata": {},
     "output_type": "display_data"
    }
   ],
   "source": [
    "plt.show()"
   ]
  },
  {
   "cell_type": "code",
   "execution_count": 25,
   "metadata": {},
   "outputs": [
    {
     "data": {
      "image/png": "[encoded data removed]",
      "text/plain": [
       "<matplotlib.figure.Figure at 0x10f1a0668>"
      ]
     },
     "metadata": {},
     "output_type": "display_data"
    }
   ],
   "source": [
    "def get_sub_images(intensity):\n",
    "    pyramid_grid = make_pupil_grid(N, D_grid)\n",
    "    images = Field(np.asarray(intensity).ravel(), pyramid_grid)\n",
    "    pysize = int(np.sqrt(images.size))\n",
    "    images.shape = (pysize, pysize)\n",
    "\n",
    "    sub_images = [images[pysize-sps-1:pysize-1, pysize-sps-1:pysize-1],\n",
    "                  images[pysize-sps-1:pysize-1, 0:sps],\n",
    "                  images[0:sps, 0:sps],\n",
    "                  images[0:sps, pysize-sps-1:pysize-1]]\n",
    "    subimage_grid = make_pupil_grid(sps, D_grid * sps / N)\n",
    "    for count, img in enumerate(sub_images):\n",
    "        img = img.ravel()\n",
    "        img.grid = subimage_grid\n",
    "        sub_images[count] = img\n",
    "    return sub_images\n",
    "\n",
    "D_grid = 3.6e-3\n",
    "imshow_field(get_sub_images(py_output.intensity)[3])\n",
    "plt.show()"
   ]
  },
  {
   "cell_type": "code",
   "execution_count": 26,
   "metadata": {},
   "outputs": [
    {
     "name": "stdout",
     "output_type": "stream",
     "text": [
      "[ 0.00759262  0.08277499  0.07457504  0.00745009  0.07809396  0.08995992\n",
      "  0.05669908  0.07104122  0.07706339  0.03455633  0.05376788  0.07675177\n",
      "  0.00469017  0.06243271  0.05658681  0.00908156]\n"
     ]
    }
   ],
   "source": [
    "print(py_output.intensity[])"
   ]
  },
  {
   "cell_type": "code",
   "execution_count": null,
   "metadata": {
    "collapsed": true
   },
   "outputs": [],
   "source": []
  }
 ],
 "metadata": {
  "kernelspec": {
   "display_name": "Python 3",
   "language": "python",
   "name": "python3"
  },
  "language_info": {
   "codemirror_mode": {
    "name": "ipython",
    "version": 3
   },
   "file_extension": ".py",
   "mimetype": "text/x-python",
   "name": "python",
   "nbconvert_exporter": "python",
   "pygments_lexer": "ipython3",
   "version": "3.6.3"
  }
 },
 "nbformat": 4,
 "nbformat_minor": 2
}
