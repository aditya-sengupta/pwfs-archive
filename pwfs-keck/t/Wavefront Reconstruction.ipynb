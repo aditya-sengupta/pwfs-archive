{
 "cells": [
  {
   "cell_type": "code",
   "execution_count": null,
   "metadata": {},
   "outputs": [
    {
     "data": {
      "image/png": "[encoded data removed]",
      "text/plain": [
       "<matplotlib.figure.Figure at 0x110e5f1d0>"
      ]
     },
     "metadata": {},
     "output_type": "display_data"
    }
   ],
   "source": [
    "from hcipy import *\n",
    "import numpy as np\n",
    "from matplotlib import pyplot as plt\n",
    "\n",
    "def aberrate(aperture, N, input_grid, f=1):\n",
    "    wf = Wavefront(aperture(input_grid))\n",
    "    return aberrate_wf(N, wf, f)\n",
    "\n",
    "def aberrate_wf(N, wf, f=1):\n",
    "    shaped_field = wf.electric_field\n",
    "    shaped_field.shape = (N, N)\n",
    "    aslist = np.asarray(shaped_field).tolist()\n",
    "    for rownum, row in enumerate(aslist):\n",
    "        for colnum, el in enumerate(row):\n",
    "            aslist[rownum][colnum] = el * np.sin(colnum * 2 * f * np.pi / N)\n",
    "    wf.electric_field = Field(np.asarray(aslist).ravel(), wf.electric_field.grid)\n",
    "    return wf\n",
    "\n",
    "def estimate(EstimatorObject, images_list):\n",
    "    I_b = images_list[0]\n",
    "    I_a = images_list[1]\n",
    "    I_c = images_list[2]\n",
    "    I_d = images_list[3]\n",
    "    norm = I_a + I_b + I_c + I_d\n",
    "    I_x = (I_a + I_b - I_c - I_d) / norm\n",
    "    I_y = (I_a - I_b - I_c + I_d) / norm\n",
    "    dummy = (I_a - I_a)\n",
    "    I_x = I_x.ravel()\n",
    "    I_y = I_y.ravel()\n",
    "    dummy = dummy.ravel()\n",
    "    res = Field([I_x, I_y, dummy], EstimatorObject.pupil_mask.grid)\n",
    "    return res, I_x, I_y\n",
    "\n",
    "def fullsim(N=128, padding=1):\n",
    "    D_keck = 9.96\n",
    "    keck_aperture = circular_aperture(D_keck)\n",
    "    pupil_grid = make_pupil_grid(N, D_keck * padding)\n",
    "    aberrated = aberrate(keck_aperture, N, pupil_grid, 5 * padding)\n",
    "    imshow_field(keck_aperture(pupil_grid) * aberrated.phase)\n",
    "    plt.show()\n",
    "    sps = 40 * N//128 #sub-pupil size\n",
    "    pupsep = 65/39.3\n",
    "    outgrid_size = int(np.ceil(sps * (pupsep + 1)))\n",
    "    keck_pyramid = PyramidWavefrontSensorOptics(pupil_grid, pupil_separation=pupsep, num_pupil_pixels=sps)\n",
    "    pyramid_grid = make_pupil_grid(N, 3.6e-3)\n",
    "    pyramid_output = keck_pyramid.forward(aberrated).intensity\n",
    "    outgrid = np.zeros((N, N)).tolist()\n",
    "    pyramid_output.shape = (outgrid_size, outgrid_size)\n",
    "    buffer = (N - outgrid_size)//2\n",
    "    for rownum, row in enumerate(pyramid_output.tolist()):\n",
    "        for colnum, el in enumerate(row):\n",
    "            outgrid[rownum+buffer][colnum+buffer] = el\n",
    "    images = Field(np.asarray(outgrid).ravel(), pyramid_grid)\n",
    "    image = images.shaped\n",
    "    sub_images = [image[buffer:sps+buffer, buffer:sps+buffer], image[(N-buffer-sps-1):(N-buffer-1), buffer:sps+buffer],\n",
    "                  image[buffer:sps+buffer, (N-buffer-sps-1):(N-buffer-1)], image[(N-buffer-sps-1):(N-buffer-1), (N-buffer-sps-1):(N-buffer-1)]]\n",
    "    subimage_grid = make_pupil_grid(sps)\n",
    "    for count, img in enumerate(sub_images):\n",
    "        img = img.ravel()\n",
    "        img.grid = subimage_grid\n",
    "        sub_images[count] = img\n",
    "    pyramid_subgrid = make_pupil_grid(sps*2, (3.6e-3)*sps*2/N)\n",
    "    keck_pyramid_estimator = PyramidWavefrontSensorEstimator(keck_aperture, pyramid_subgrid)\n",
    "    aberratedslopes, x_slopes, y_slopes = estimate(keck_pyramid_estimator, sub_images)\n",
    "    plt.subplot(2,2,1)\n",
    "    imshow_field(x_slopes , vmax=0.005, vmin=-0.005)\n",
    "    plt.colorbar()\n",
    "    plt.subplot(2,2,2)\n",
    "    imshow_field(y_slopes, vmax=0.005, vmin=-0.005)\n",
    "    plt.subplot(2,2,4)\n",
    "    imshow_field(aberratedslopes)\n",
    "    plt.show()\n",
    "    #with open('local_output.txt', 'a') as out:\n",
    "        #out.write(str(N) + '\\n' + str(padding) + '\\n' + str(x_slopes.tolist()) + '\\n' + str(y_slopes.tolist()) + '\\n')\n",
    "\n",
    "fullsim(8192, 1.4)\n"
   ]
  },
  {
   "cell_type": "code",
   "execution_count": null,
   "metadata": {
    "collapsed": true
   },
   "outputs": [],
   "source": []
  }
 ],
 "metadata": {
  "kernelspec": {
   "display_name": "Python 3",
   "language": "python",
   "name": "python3"
  },
  "language_info": {
   "codemirror_mode": {
    "name": "ipython",
    "version": 3
   },
   "file_extension": ".py",
   "mimetype": "text/x-python",
   "name": "python",
   "nbconvert_exporter": "python",
   "pygments_lexer": "ipython3",
   "version": "3.6.3"
  }
 },
 "nbformat": 4,
 "nbformat_minor": 2
}
