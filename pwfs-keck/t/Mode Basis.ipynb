{
 "cells": [
  {
   "cell_type": "code",
   "execution_count": 1,
   "metadata": {},
   "outputs": [
    {
     "data": {
      "image/png": "[encoded data removed]",
      "text/plain": [
       "<matplotlib.figure.Figure at 0x10c245668>"
      ]
     },
     "metadata": {},
     "output_type": "display_data"
    },
    {
     "data": {
      "image/png": "[encoded data removed]",
      "text/plain": [
       "<matplotlib.figure.Figure at 0x10f223d30>"
      ]
     },
     "metadata": {},
     "output_type": "display_data"
    }
   ],
   "source": [
    "from hcipy import *\n",
    "import numpy as np\n",
    "from matplotlib import pyplot as plt\n",
    "\n",
    "N = 128\n",
    "D = 9.96\n",
    "aperture = circular_aperture(D)\n",
    "pupil_grid = make_pupil_grid(N, D)\n",
    "wf = Wavefront(aperture(pupil_grid))\n",
    "\n",
    "aberrated = wf.copy()\n",
    "amplitude = 0.3\n",
    "spatial_frequency = 5\n",
    "aberrated.electric_field *= np.exp(1j * amplitude * np.sin(2*np.pi * pupil_grid.x / D * spatial_frequency))\n",
    "\n",
    "imshow_field(wf.intensity)\n",
    "plt.show()\n",
    "imshow_field(aberrated.phase)\n",
    "plt.show()"
   ]
  },
  {
   "cell_type": "code",
   "execution_count": 2,
   "metadata": {},
   "outputs": [
    {
     "name": "stdout",
     "output_type": "stream",
     "text": [
      "12644\n"
     ]
    }
   ],
   "source": [
    "aberration_mode_basis = []\n",
    "for i in range(N):\n",
    "    for j in range(N):\n",
    "        wf = Wavefront(aperture(pupil_grid))\n",
    "        wf.electric_field.shape = (N, N)\n",
    "        l = wf.electric_field.tolist()\n",
    "        if np.real(l[i][j]) > 0:\n",
    "            l[i][j] = 0\n",
    "            wf.electric_field = Field(np.asarray(l).ravel(), wf.grid)\n",
    "            aberration_mode_basis.append(wf)\n",
    "print(len(aberration_mode_basis))"
   ]
  },
  {
   "cell_type": "code",
   "execution_count": 3,
   "metadata": {
    "collapsed": true
   },
   "outputs": [],
   "source": [
    "flat_mode = Wavefront(aperture(pupil_grid))"
   ]
  },
  {
   "cell_type": "code",
   "execution_count": 4,
   "metadata": {
    "scrolled": true
   },
   "outputs": [
    {
     "name": "stdout",
     "output_type": "stream",
     "text": [
      "0\n",
      "1000\n",
      "2000\n",
      "3000\n",
      "4000\n",
      "5000\n",
      "6000\n",
      "7000\n",
      "8000\n",
      "9000\n",
      "10000\n",
      "11000\n",
      "12000\n"
     ]
    }
   ],
   "source": [
    "keck_pyramid = PyramidWavefrontSensorOptics(pupil_grid, pupil_separation=65/39.3, num_pupil_pixels=40)\n",
    "pyramid_output_basis = []\n",
    "for index, x in enumerate(aberration_mode_basis):\n",
    "    pyramid_output_basis.append(keck_pyramid.forward(x))\n",
    "# This is a long process, takes about 4 seconds to get through 100. So it's about 8.5 mins.    "
   ]
  },
  {
   "cell_type": "code",
   "execution_count": 5,
   "metadata": {
    "collapsed": true
   },
   "outputs": [],
   "source": [
    "flat_pyramid_output = keck_pyramid.forward(flat_mode)"
   ]
  },
  {
   "cell_type": "code",
   "execution_count": 8,
   "metadata": {
    "collapsed": true
   },
   "outputs": [],
   "source": [
    "def new_get_sub_images(intensity):\n",
    "    buffer = 0\n",
    "    sps = 40\n",
    "    pyramid_grid = make_pupil_grid(N, 3.6e-3)\n",
    "    images = Field(np.asarray(intensity).ravel(), pyramid_grid)\n",
    "    images.shape = (107, 107)\n",
    "    image = images\n",
    "\n",
    "    sub_images = [image[66:106, 66:106],\n",
    "                  image[66:106, 0:40],\n",
    "                  image[0:40, 0:40],\n",
    "                  image[0:40, 66:106]]\n",
    "    subimage_grid = make_pupil_grid(sps)\n",
    "    for count, img in enumerate(sub_images):\n",
    "        img = img.ravel()\n",
    "        img.grid = subimage_grid\n",
    "        sub_images[count] = img\n",
    "    return sub_images\n",
    "\n",
    "# indexing starts from the bottom left"
   ]
  },
  {
   "cell_type": "code",
   "execution_count": 9,
   "metadata": {},
   "outputs": [
    {
     "data": {
      "text/plain": [
       "[Field([ 0.09519276,  0.1077058 ,  0.10867247, ...,  0.08623607,\n",
       "         0.07849565,  0.073353  ]),\n",
       " Field([ 0.07209439,  0.08036521,  0.08243927, ...,  0.08274847,\n",
       "         0.08239295,  0.08460654]),\n",
       " Field([ 0.05383754,  0.05957864,  0.06187748, ...,  0.14568071,\n",
       "         0.13668568,  0.13101028]),\n",
       " Field([ 0.07209443,  0.0810772 ,  0.08267802, ...,  0.08410168,\n",
       "         0.08387291,  0.08460749])]"
      ]
     },
     "execution_count": 9,
     "metadata": {},
     "output_type": "execute_result"
    }
   ],
   "source": [
    "new_get_sub_images(pyramid_output_basis[0].intensity)"
   ]
  },
  {
   "cell_type": "code",
   "execution_count": 10,
   "metadata": {},
   "outputs": [
    {
     "name": "stdout",
     "output_type": "stream",
     "text": [
      "0\n",
      "100\n",
      "200\n",
      "300\n",
      "400\n",
      "500\n",
      "600\n",
      "700\n",
      "800\n",
      "900\n",
      "1000\n",
      "1100\n",
      "1200\n",
      "1300\n",
      "1400\n",
      "1500\n",
      "1600\n",
      "1700\n",
      "1800\n",
      "1900\n",
      "2000\n",
      "2100\n",
      "2200\n",
      "2300\n",
      "2400\n",
      "2500\n",
      "2600\n",
      "2700\n",
      "2800\n",
      "2900\n",
      "3000\n",
      "3100\n",
      "3200\n",
      "3300\n",
      "3400\n",
      "3500\n",
      "3600\n",
      "3700\n",
      "3800\n",
      "3900\n",
      "4000\n",
      "4100\n",
      "4200\n",
      "4300\n",
      "4400\n",
      "4500\n",
      "4600\n",
      "4700\n",
      "4800\n",
      "4900\n",
      "5000\n",
      "5100\n",
      "5200\n",
      "5300\n",
      "5400\n",
      "5500\n",
      "5600\n",
      "5700\n",
      "5800\n",
      "5900\n",
      "6000\n",
      "6100\n",
      "6200\n",
      "6300\n",
      "6400\n",
      "6500\n",
      "6600\n",
      "6700\n",
      "6800\n",
      "6900\n",
      "7000\n",
      "7100\n",
      "7200\n",
      "7300\n",
      "7400\n",
      "7500\n",
      "7600\n",
      "7700\n",
      "7800\n",
      "7900\n",
      "8000\n",
      "8100\n",
      "8200\n",
      "8300\n",
      "8400\n",
      "8500\n",
      "8600\n",
      "8700\n",
      "8800\n",
      "8900\n",
      "9000\n",
      "9100\n",
      "9200\n",
      "9300\n",
      "9400\n",
      "9500\n",
      "9600\n",
      "9700\n",
      "9800\n",
      "9900\n",
      "10000\n",
      "10100\n",
      "10200\n",
      "10300\n",
      "10400\n",
      "10500\n",
      "10600\n",
      "10700\n",
      "10800\n",
      "10900\n",
      "11000\n",
      "11100\n",
      "11200\n",
      "11300\n",
      "11400\n",
      "11500\n",
      "11600\n",
      "11700\n",
      "11800\n",
      "11900\n",
      "12000\n",
      "12100\n",
      "12200\n",
      "12300\n",
      "12400\n",
      "12500\n",
      "12600\n"
     ]
    }
   ],
   "source": [
    "sub_images_basis = []\n",
    "for index, x in enumerate(pyramid_output_basis):\n",
    "    if index % 100 == 0:\n",
    "        print(index)\n",
    "    sub_images_basis.append(new_get_sub_images(x.intensity))"
   ]
  },
  {
   "cell_type": "code",
   "execution_count": 11,
   "metadata": {},
   "outputs": [
    {
     "name": "stdout",
     "output_type": "stream",
     "text": [
      "12644\n",
      "4\n",
      "(1600,)\n"
     ]
    }
   ],
   "source": [
    "print(len(sub_images_basis))\n",
    "print(len(sub_images_basis[0]))\n",
    "print(sub_images_basis[0][1].shape)"
   ]
  },
  {
   "cell_type": "code",
   "execution_count": 12,
   "metadata": {
    "collapsed": true
   },
   "outputs": [],
   "source": [
    "def estimate(EstimatorObject, images_list):\n",
    "    '''\n",
    "    Slightly edited version of the PWFSEstimator.estimate function. The earlier function had a difference in sub-pupil\n",
    "    numbering compared to the literature I found. As implemented before, it was \n",
    "    a b\n",
    "    c d\n",
    "    but according to papers such as https://ui.adsabs.harvard.edu/#abs/2006OExpr..1411925B/abstract (page 3) it's\n",
    "    b a\n",
    "    c d\n",
    "    '''\n",
    "    I_a = images_list[0]\n",
    "    I_b = images_list[1]\n",
    "    I_c = images_list[2]\n",
    "    I_d = images_list[3]\n",
    "    norm = I_a + I_b + I_c + I_d\n",
    "    I_x = (I_a + I_b - I_c - I_d) / norm\n",
    "    I_y = (I_a - I_b - I_c + I_d) / norm\n",
    "    dummy = Field(np.zeros(I_x.size), I_x.grid)\n",
    "    I_x = I_x.ravel()\n",
    "    I_y = I_y.ravel()\n",
    "    dummy = dummy.ravel()\n",
    "    # previously, was not possible to plot res, can now do so as a red-green plot (red = x and green = y).\n",
    "    return [I_x, I_y]"
   ]
  },
  {
   "cell_type": "code",
   "execution_count": 13,
   "metadata": {},
   "outputs": [
    {
     "name": "stdout",
     "output_type": "stream",
     "text": [
      "0\n",
      "1000\n",
      "2000\n",
      "3000\n",
      "4000\n",
      "5000\n",
      "6000\n",
      "7000\n",
      "8000\n",
      "9000\n",
      "10000\n",
      "11000\n",
      "12000\n"
     ]
    }
   ],
   "source": [
    "sps = 40\n",
    "keck_pyramid_estimator = PyramidWavefrontSensorEstimator(aperture, make_pupil_grid(sps*2, (3.6e-3)*sps*2/N))\n",
    "estimated_basis = []\n",
    "for index, x in enumerate(sub_images_basis):\n",
    "    if index % 1000 == 0:\n",
    "        print(index)\n",
    "    estimated_basis.append(estimate(keck_pyramid_estimator, x))\n"
   ]
  },
  {
   "cell_type": "code",
   "execution_count": 17,
   "metadata": {
    "collapsed": true
   },
   "outputs": [],
   "source": [
    "flat_x, flat_y = estimate(keck_pyramid_estimator, new_get_sub_images(flat_pyramid_output.intensity))"
   ]
  },
  {
   "cell_type": "code",
   "execution_count": 63,
   "metadata": {},
   "outputs": [
    {
     "data": {
      "text/plain": [
       "16384"
      ]
     },
     "execution_count": 63,
     "metadata": {},
     "output_type": "execute_result"
    }
   ],
   "source": [
    "Wavefront(aperture(pupil_grid)).intensity.size"
   ]
  },
  {
   "cell_type": "code",
   "execution_count": 16,
   "metadata": {},
   "outputs": [],
   "source": [
    "wf = Wavefront(aperture(pupil_grid))\n",
    "def make_matrix_from_wf(wf):\n",
    "    return wf.phase[aperture(pupil_grid) > 0] #size should be 12644 for N = 128\n",
    "\n",
    "aberrated = wf.copy()\n",
    "amplitude = 1\n",
    "spatial_frequency = 5\n",
    "aberrated.electric_field *= np.exp(1j * amplitude * np.sin(2*np.pi * pupil_grid.x / D * spatial_frequency))\n",
    "matrix_aberrated = make_matrix_from_wf(aberrated)"
   ]
  },
  {
   "cell_type": "code",
   "execution_count": null,
   "metadata": {
    "collapsed": true
   },
   "outputs": [],
   "source": [
    "'''tolerance = 0.05\n",
    "imshow_field(aberrated.phase, vmin=1-tolerance, vmax=1)\n",
    "plt.show()\n",
    "not_one = matrix_aberrated[abs(1 - matrix_aberrated) > tolerance]\n",
    "print(matrix_aberrated.size - not_one.size)''' \n",
    "def makeflatwfslopes():\n",
    "    outgrid = np.zeros((N, N)).tolist()\n",
    "    pyramid_output.shape = (outgrid_size, outgrid_size)\n",
    "    buffer = (N - outgrid_size)//2\n",
    "    flat_pyramid_output = keck_pyramid.forward(wf).intensity\n",
    "    flat_pyramid_output.shape = (outgrid_size, outgrid_size)\n",
    "    # added ability to get sub-pupil images that are separated. Default PWFSOptics has pupil separation = 1.5 but \n",
    "    # image extraction assumes separation = 1. Not sure, but this may have caused errors before.\n",
    "    for rownum, row in enumerate(flat_pyramid_output.tolist()):\n",
    "        for colnum, el in enumerate(row):\n",
    "            outgrid[rownum+buffer][colnum+buffer] = el\n",
    "    images = Field(np.asarray(outgrid).ravel(), pyramid_grid)\n",
    "    image = images.shaped\n",
    "    flat_sub_images = [image[(N-buffer-sps-1):(N-buffer-1), (N-buffer-sps-1):(N-buffer-1)],\n",
    "                  image[(N-buffer-sps-1):(N-buffer-1), buffer:sps+buffer],\n",
    "                  image[buffer:sps+buffer, (N-buffer-sps-1):(N-buffer-1)], \n",
    "                  image[buffer:sps+buffer, buffer:sps+buffer]]\n",
    "    '''sub_images = [image[66:106, 66:106],\n",
    "                  image[66:106, 0:40],\n",
    "                  image[0:40, 0:40],\n",
    "                  image[0:40, 66:106]]'''\n",
    "    for count, img in enumerate(flat_sub_images):\n",
    "        img = img.ravel()\n",
    "        img.grid = make_pupil_grid(sps)\n",
    "        flat_sub_images[count] = img\n",
    "    return estimate(keck_pyramid_estimator, flat_sub_images)"
   ]
  },
  {
   "cell_type": "code",
   "execution_count": 20,
   "metadata": {},
   "outputs": [
    {
     "data": {
      "image/png": "[encoded data removed]",
      "text/plain": [
       "<matplotlib.figure.Figure at 0x198a3ff748>"
      ]
     },
     "metadata": {},
     "output_type": "display_data"
    }
   ],
   "source": [
    "sps = 40 #sub-pupil size\n",
    "pupsep = 65/39.3\n",
    "outgrid_size = int(np.ceil(sps * (pupsep + 1)))\n",
    "keck_pyramid = PyramidWavefrontSensorOptics(pupil_grid, pupil_separation=pupsep, num_pupil_pixels=sps)\n",
    "pyramid_grid = make_pupil_grid(N, 3.6e-3)\n",
    "pyramid_output = keck_pyramid.forward(aberrated).intensity\n",
    "\n",
    "imshow_field(flat_y)\n",
    "plt.show()"
   ]
  },
  {
   "cell_type": "code",
   "execution_count": 21,
   "metadata": {
    "collapsed": true
   },
   "outputs": [],
   "source": [
    "estimated_basis = [[x - flat_x, y - flat_y] for x, y in estimated_basis]"
   ]
  },
  {
   "cell_type": "code",
   "execution_count": 47,
   "metadata": {},
   "outputs": [
    {
     "ename": "TypeError",
     "evalue": "'float' object is not callable",
     "output_type": "error",
     "traceback": [
      "\u001b[0;31m---------------------------------------------------------------------------\u001b[0m",
      "\u001b[0;31mTypeError\u001b[0m                                 Traceback (most recent call last)",
      "\u001b[0;32m<ipython-input-47-c83e88db9fad>\u001b[0m in \u001b[0;36m<module>\u001b[0;34m()\u001b[0m\n\u001b[1;32m      8\u001b[0m     \u001b[0mplt\u001b[0m\u001b[0;34m.\u001b[0m\u001b[0mshow\u001b[0m\u001b[0;34m(\u001b[0m\u001b[0;34m)\u001b[0m\u001b[0;34m\u001b[0m\u001b[0m\n\u001b[1;32m      9\u001b[0m \u001b[0;34m\u001b[0m\u001b[0m\n\u001b[0;32m---> 10\u001b[0;31m \u001b[0;32mfor\u001b[0m \u001b[0mb\u001b[0m \u001b[0;32min\u001b[0m \u001b[0mrange\u001b[0m\u001b[0;34m(\u001b[0m\u001b[0;36m0\u001b[0m\u001b[0;34m,\u001b[0m \u001b[0;36m12643\u001b[0m\u001b[0;34m,\u001b[0m \u001b[0;36m1000\u001b[0m\u001b[0;34m)\u001b[0m\u001b[0;34m:\u001b[0m\u001b[0;34m\u001b[0m\u001b[0m\n\u001b[0m\u001b[1;32m     11\u001b[0m     \u001b[0mget_slopes\u001b[0m\u001b[0;34m(\u001b[0m\u001b[0mb\u001b[0m\u001b[0;34m)\u001b[0m\u001b[0;34m\u001b[0m\u001b[0m\n\u001b[1;32m     12\u001b[0m \u001b[0;34m\u001b[0m\u001b[0m\n",
      "\u001b[0;31mTypeError\u001b[0m: 'float' object is not callable"
     ]
    }
   ],
   "source": [
    "def get_slopes(num, range=0.01):\n",
    "    plt.subplot(2,2,1)\n",
    "    imshow_field(estimated_basis[num][0], vmin=-range, vmax=range)\n",
    "    plt.colorbar()\n",
    "    plt.subplot(2,2,2)\n",
    "    imshow_field(estimated_basis[num][1], vmin=-range, vmax=range)\n",
    "    plt.colorbar()\n",
    "    plt.show()\n",
    "    \n",
    "for b in range(0, 12643, 1000):\n",
    "    get_slopes(b)\n",
    "    "
   ]
  },
  {
   "cell_type": "code",
   "execution_count": 48,
   "metadata": {},
   "outputs": [
    {
     "name": "stderr",
     "output_type": "stream",
     "text": [
      "IOPub data rate exceeded.\n",
      "The notebook server will temporarily stop sending output\n",
      "to the client in order to avoid crashing it.\n",
      "To change this limit, set the config variable\n",
      "`--NotebookApp.iopub_data_rate_limit`.\n"
     ]
    }
   ],
   "source": [
    "print(estimated_basis)"
   ]
  },
  {
   "cell_type": "code",
   "execution_count": 50,
   "metadata": {},
   "outputs": [
    {
     "ename": "AttributeError",
     "evalue": "'list' object has no attribute 'tolist'",
     "output_type": "error",
     "traceback": [
      "\u001b[0;31m---------------------------------------------------------------------------\u001b[0m",
      "\u001b[0;31mAttributeError\u001b[0m                            Traceback (most recent call last)",
      "\u001b[0;32m<ipython-input-50-9d5b49ab5dc9>\u001b[0m in \u001b[0;36m<module>\u001b[0;34m()\u001b[0m\n\u001b[0;32m----> 1\u001b[0;31m \u001b[0mestimated_basis_list\u001b[0m \u001b[0;34m=\u001b[0m \u001b[0;34m[\u001b[0m\u001b[0mx\u001b[0m\u001b[0;34m.\u001b[0m\u001b[0mtolist\u001b[0m\u001b[0;34m(\u001b[0m\u001b[0;34m)\u001b[0m \u001b[0;32mfor\u001b[0m \u001b[0mx\u001b[0m \u001b[0;32min\u001b[0m \u001b[0mestimated_basis\u001b[0m\u001b[0;34m]\u001b[0m\u001b[0;34m\u001b[0m\u001b[0m\n\u001b[0m",
      "\u001b[0;32m<ipython-input-50-9d5b49ab5dc9>\u001b[0m in \u001b[0;36m<listcomp>\u001b[0;34m(.0)\u001b[0m\n\u001b[0;32m----> 1\u001b[0;31m \u001b[0mestimated_basis_list\u001b[0m \u001b[0;34m=\u001b[0m \u001b[0;34m[\u001b[0m\u001b[0mx\u001b[0m\u001b[0;34m.\u001b[0m\u001b[0mtolist\u001b[0m\u001b[0;34m(\u001b[0m\u001b[0;34m)\u001b[0m \u001b[0;32mfor\u001b[0m \u001b[0mx\u001b[0m \u001b[0;32min\u001b[0m \u001b[0mestimated_basis\u001b[0m\u001b[0;34m]\u001b[0m\u001b[0;34m\u001b[0m\u001b[0m\n\u001b[0m",
      "\u001b[0;31mAttributeError\u001b[0m: 'list' object has no attribute 'tolist'"
     ]
    }
   ],
   "source": [
    "estimated_basis_list = [x.tolist() for x in estimated_basis]\n"
   ]
  },
  {
   "cell_type": "code",
   "execution_count": 52,
   "metadata": {},
   "outputs": [
    {
     "name": "stdout",
     "output_type": "stream",
     "text": [
      "<class 'hcipy.field.field.Field'>\n"
     ]
    }
   ],
   "source": [
    "print(type(estimated_basis[0][0]))"
   ]
  },
  {
   "cell_type": "code",
   "execution_count": 53,
   "metadata": {
    "collapsed": true
   },
   "outputs": [],
   "source": [
    "estimated_basis_list = [[x.tolist(), y.tolist()] for x, y in estimated_basis]"
   ]
  },
  {
   "cell_type": "code",
   "execution_count": 68,
   "metadata": {},
   "outputs": [
    {
     "name": "stderr",
     "output_type": "stream",
     "text": [
      "IOPub data rate exceeded.\n",
      "The notebook server will temporarily stop sending output\n",
      "to the client in order to avoid crashing it.\n",
      "To change this limit, set the config variable\n",
      "`--NotebookApp.iopub_data_rate_limit`.\n"
     ]
    }
   ],
   "source": []
  },
  {
   "cell_type": "code",
   "execution_count": 55,
   "metadata": {},
   "outputs": [
    {
     "name": "stdout",
     "output_type": "stream",
     "text": [
      "12644\n"
     ]
    }
   ],
   "source": [
    "print(len(estimated_basis_list))"
   ]
  },
  {
   "cell_type": "code",
   "execution_count": null,
   "metadata": {
    "collapsed": true
   },
   "outputs": [],
   "source": []
  }
 ],
 "metadata": {
  "kernelspec": {
   "display_name": "Python 3",
   "language": "python",
   "name": "python3"
  },
  "language_info": {
   "codemirror_mode": {
    "name": "ipython",
    "version": 3
   },
   "file_extension": ".py",
   "mimetype": "text/x-python",
   "name": "python",
   "nbconvert_exporter": "python",
   "pygments_lexer": "ipython3",
   "version": "3.6.3"
  }
 },
 "nbformat": 4,
 "nbformat_minor": 2
}
